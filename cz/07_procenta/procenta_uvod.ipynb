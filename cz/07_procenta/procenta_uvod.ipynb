{
 "cells": [
  {
   "cell_type": "markdown",
   "metadata": {},
   "source": [
    "# Úvod do procent\n",
    "    * kontakt autora: David Palecek (ddthumb@gmail.com)"
   ]
  },
  {
   "cell_type": "markdown",
   "metadata": {},
   "source": [
    "Procenta se dají představit jako alternativa k poměrům či zlomkům.\n",
    "\n",
    "Příkladem nám budou jablka. Máš 10 jablek a sníš 5 z nich.\n",
    "\n",
    "Jakou část celku jsi snědla? Pět z deseti, zkratkou třeba 5/10, což připomíná matematický zlomek či poměr:\n",
    "\n",
    "$\\dfrac{5}{10}=\\dfrac{1}{2}$\n",
    "\n",
    "Snědl jsi polovinu svých jablek.\n"
   ]
  },
  {
   "cell_type": "code",
   "execution_count": 1,
   "metadata": {},
   "outputs": [
    {
     "name": "stdout",
     "output_type": "stream",
     "text": [
      "0.5\n"
     ]
    }
   ],
   "source": [
    "# V pythonu jednoduché na výpočet\n",
    "print(5/10)"
   ]
  },
  {
   "cell_type": "markdown",
   "metadata": {},
   "source": [
    "Pokuď nazveme počátečních 10 jablek celkem, pak to je také 100% jablek.\n",
    "\n",
    "Snědla jsi $\\dfrac{1}{2}$ ze 100%, tedy 50%.\n",
    "\n",
    "Kolik ti zbylo, 100% - 50%, také 50%.\n",
    "\n",
    "### Vzjádření procent je tedy poměr vynásobený 100."
   ]
  },
  {
   "cell_type": "code",
   "execution_count": 2,
   "metadata": {},
   "outputs": [
    {
     "data": {
      "text/plain": [
       "50.0"
      ]
     },
     "execution_count": 2,
     "metadata": {},
     "output_type": "execute_result"
    }
   ],
   "source": [
    "(5/10) * 100"
   ]
  },
  {
   "cell_type": "markdown",
   "metadata": {},
   "source": [
    "### Teď si dokoupíš 10 jablek, a vyvstanou dvě otázky:\n",
    "1. Jaké množství jablek v procentech teď máš vzhledem k počátečním 10?"
   ]
  },
  {
   "cell_type": "code",
   "execution_count": 8,
   "metadata": {},
   "outputs": [
    {
     "data": {
      "text/plain": [
       "150.0"
      ]
     },
     "execution_count": 8,
     "metadata": {},
     "output_type": "execute_result"
    }
   ],
   "source": [
    "# zbylých 5+10 nových, celkem 15 jablek, které chceš porovnat vzhledem k počítečním 10, 10 musí přijít do jmenovatele\n",
    "(15/10) * 100"
   ]
  },
  {
   "cell_type": "markdown",
   "metadata": {},
   "source": [
    "2. Kolik procent jablek jsi přidal ke svým 5 zbylým před nákupem?"
   ]
  },
  {
   "cell_type": "code",
   "execution_count": 10,
   "metadata": {},
   "outputs": [
    {
     "data": {
      "text/plain": [
       "200.0"
      ]
     },
     "execution_count": 10,
     "metadata": {},
     "output_type": "execute_result"
    }
   ],
   "source": [
    "# Přidalas 10 a chceš to porovnat vzhledem ke zbylým 5, takže jmenovatel je pro změnu 5\n",
    "(10/5) *100"
   ]
  },
  {
   "cell_type": "markdown",
   "metadata": {},
   "source": [
    "\n",
    "Všimni si, že koupení 10 jablek je dvojnásobek 5, v procentech tedy dvojnásobek znamená 200%.\n",
    "\n",
    "Tvá nákupní horečka vyjádřená větami zní:\n",
    "\n",
    "Přikoupils 200% jablek ke svým 5, čímž jsi dosáhl 15 jablek, což je 150% počáteřního množství 10 jablek, a 300% když bychom chtěli 15 jablek vztáhnout k hodnotě 5 jablek před nákupem. \n",
    "\n",
    "### Zásadní je se *vždy* ptát, 'procentuální část vzhledem k jaké počáteční/celkové hodnotě?'\n",
    "\n",
    "---\n",
    "Teď znáš vše podstatné:\n",
    "\n",
    "Když ti zadám jakákoli dvě čísla, jsi schopná spočíst procentuální část jednoho vzhledem k druhému.\n",
    "\n",
    "Vždy ale máš dvě možnosti.\n",
    "\n",
    "Vem například 1230 a 123"
   ]
  },
  {
   "cell_type": "code",
   "execution_count": 11,
   "metadata": {},
   "outputs": [
    {
     "data": {
      "text/plain": [
       "10.0"
      ]
     },
     "execution_count": 11,
     "metadata": {},
     "output_type": "execute_result"
    }
   ],
   "source": [
    "round(123/1230*100,1)"
   ]
  },
  {
   "cell_type": "markdown",
   "metadata": {},
   "source": [
    "Jinými slovy jedna desetina, 100/10=10%"
   ]
  },
  {
   "cell_type": "code",
   "execution_count": 12,
   "metadata": {},
   "outputs": [
    {
     "data": {
      "text/plain": [
       "1000.0"
      ]
     },
     "execution_count": 12,
     "metadata": {},
     "output_type": "execute_result"
    }
   ],
   "source": [
    "round(1230/123*100,1)"
   ]
  },
  {
   "cell_type": "markdown",
   "metadata": {},
   "source": [
    "Pokud máš něčeho 1000%, znamená to vlastně, že máš 10x tolik.\n",
    "\n",
    "---\n",
    "Pokud ale začneš se 123, kolik procent musíš přidat, abys dosáhla 1230?\n",
    "\n",
    "Jinými slovy, potřebuješ výjadřit rozdíl mezi 1230 a 123 (přírůstek), vzhledem k počáteční hodnotě 123."
   ]
  },
  {
   "cell_type": "code",
   "execution_count": 4,
   "metadata": {},
   "outputs": [
    {
     "data": {
      "text/plain": [
       "9.0"
      ]
     },
     "execution_count": 4,
     "metadata": {},
     "output_type": "execute_result"
    }
   ],
   "source": [
    "# poměr je\n",
    "(1230-123)/123"
   ]
  },
  {
   "cell_type": "markdown",
   "metadata": {},
   "source": [
    "což je v procentech:"
   ]
  },
  {
   "cell_type": "code",
   "execution_count": 5,
   "metadata": {},
   "outputs": [
    {
     "data": {
      "text/plain": [
       "900.0"
      ]
     },
     "execution_count": 5,
     "metadata": {},
     "output_type": "execute_result"
    }
   ],
   "source": [
    "(1230-123)/123 * 100"
   ]
  },
  {
   "cell_type": "markdown",
   "metadata": {},
   "source": [
    "Potřebuješ tedy přírůstek 900%\n",
    "\n",
    "Můžeš ale přemýšlet i takto:\n",
    "* 1230 je 1000% z původních 123\n",
    "* Ale 123 je 100%, původní celkové množství\n",
    "* Takže nárůst se dá spočíst jako 1000-100 (konečná - původní procenta) = 900 (procenta přírůstu)\n",
    "\n",
    "---\n",
    "\n",
    "## Otázka:\n",
    "1. Vyřešil jsi, že nárůst ze 123 do 1230 je roven 900%. Jaký pokles (v procentech) je třeba v opačném případě, z 1230 ke 123?\n",
    "\n",
    "# Dobrá práce!"
   ]
  },
  {
   "cell_type": "code",
   "execution_count": null,
   "metadata": {},
   "outputs": [],
   "source": []
  }
 ],
 "metadata": {
  "kernelspec": {
   "display_name": "pymarad",
   "language": "python",
   "name": "pymarad"
  },
  "language_info": {
   "codemirror_mode": {
    "name": "ipython",
    "version": 3
   },
   "file_extension": ".py",
   "mimetype": "text/x-python",
   "name": "python",
   "nbconvert_exporter": "python",
   "pygments_lexer": "ipython3",
   "version": "3.7.1"
  },
  "orig_nbformat": 4
 },
 "nbformat": 4,
 "nbformat_minor": 2
}
