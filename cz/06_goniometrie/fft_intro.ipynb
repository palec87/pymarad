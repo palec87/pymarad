{
 "cells": [
  {
   "cell_type": "markdown",
   "metadata": {},
   "source": [
    "# Interaktivní INTRO k Fouriérově transformaci (FT)\n",
    "  * Nepůjdu do žádné složité matematiky.\n",
    "  * Ale pokusím se představit proč je FT tak užitečný koncept.\n",
    "  \n",
    "1. Každá rozumná periodická (kmitající) funkce se dá vyjádřit Fourierovskou řadou, která obsahuje jen funkce sinus a cosinus.\n",
    "2. Navíc, každá funkce se dá Fourierovsky transformovat, což znamené rozložit do frekvenčních komponent.\n",
    "3. Problém je, že Fourierovská řada může být nekonečná.\n",
    "4. Naštěstí jsou její členy uspořádány podle klesající důležitosti. To znamená, že vždy bereme ty nejdůležitějsí jako první.\n",
    "5. Ostatní členy jsou korekce k funkci (řadě), kterou již máme.\n",
    "6. Důležité je, že pokud mám oscilující funkci, FT mi vrací informaci o frekvencích (mnoha sinusů sečtených domhromady), které mi popisují moje šíleně vypadající oscilace.\n",
    "\n",
    "## Kde se FT používá?\n",
    "1. Komprese (obrázků, hudby atd.)\n",
    "2. Odstraňování šumu\n",
    "3. Analýza signálu (frekvence zvuku, světelných vln, tedy barev atd.) "
   ]
  },
  {
   "cell_type": "code",
   "execution_count": 1,
   "metadata": {},
   "outputs": [],
   "source": [
    "## Potřeba jen pokuď používáš Google colabs\n",
    "import subprocess\n",
    "import sys\n",
    "\n",
    "def install_module(module):\n",
    "    subprocess.call([sys.executable, \"-m\", \"pip\", \"install\", module])\n",
    "    \n",
    "install_module('dash')\n",
    "install_module('jupyter_dash')"
   ]
  },
  {
   "cell_type": "code",
   "execution_count": 1,
   "metadata": {},
   "outputs": [],
   "source": [
    "# vědecké moduly\n",
    "import numpy as np\n",
    "from scipy import signal, fft\n",
    "\n",
    "# import modulů pro interaktivní grafiku\n",
    "from dash import Dash, html, dcc, Input, Output\n",
    "from jupyter_dash import JupyterDash\n",
    "import plotly.express as px\n",
    "import plotly.graph_objects as go\n",
    "\n",
    "# standartní vykreslování\n",
    "import matplotlib.pyplot as plt\n",
    "from matplotlib import cm\n",
    "\n",
    "plt.rcParams['figure.facecolor'] = 'white'"
   ]
  },
  {
   "cell_type": "markdown",
   "metadata": {},
   "source": [
    "### Vytvořme obdelníkový signál spolu s jednoduchým sinusem."
   ]
  },
  {
   "cell_type": "code",
   "execution_count": 2,
   "metadata": {},
   "outputs": [
    {
     "data": {
      "image/png": "[encoded data removed]",
      "text/plain": [
       "<Figure size 432x288 with 1 Axes>"
      ]
     },
     "metadata": {},
     "output_type": "display_data"
    }
   ],
   "source": [
    "# naši osu x, abych naznačil kmitání v čase, nazvu t\n",
    "t = np.linspace(0, 2, 500, endpoint=False)\n",
    "\n",
    "# obdelníková funkce je známá, proto ji najdeme v modulu \"signal\"\n",
    "plt.plot(t, signal.square(2 * np.pi * t), label='obd funkce')\n",
    "plt.plot(t, np.sin(2*np.pi*t), label='sinus')\n",
    "plt.axhline(0, color='k', lw=0.4)\n",
    "plt.ylim(-1.5, 1.7)\n",
    "plt.xlabel('Čas')\n",
    "plt.ylabel('Amplituda')\n",
    "plt.legend(loc='upper right')\n",
    "plt.show()"
   ]
  },
  {
   "cell_type": "markdown",
   "metadata": {},
   "source": [
    "Obdelníková funkce kmitá, což je dobře, ale jak do prkený vohrady dokážeme popsat její ostré rohy jen s pomocí sinů a cosinů?\n",
    "\n",
    "---\n",
    "\n",
    "Výpočet na papíře je na úrovni vysoké školy, takže my si jen půjčíme výsledek z wikipedie (pokud chceš více podrobností, koukni na vysvětlení zde [Wolfram explanation](https://mathworld.wolfram.com/FourierSeriesSquareWave.html)\n",
    "\n",
    "\\begin{align}\n",
    "F(t)=\\dfrac{4}{\\pi}\\sum_{k=1}^{\\infty}{\\dfrac{\\sin{(2\\pi(2k-1)ft)}}{2k-1}} = {\\color{red}\\dfrac{4}{\\pi}}\\left(\\sin{({\\color{green}\\omega} t)} + {\\color{red}\\dfrac{1}{3}}\\sin{({\\color{green}3\\omega} t)} + {\\color{red}\\dfrac{1}{5}}\\sin{({\\color{green}5\\omega} t)} + ...\\right)\n",
    "\\end{align}\n",
    ", pro $\\omega=2\\pi ft$.\n",
    "\n",
    "### Co to znamená?\n",
    "Pokuď se podíváš na pravou stranu vzorečku, vidíš, že sčítáme vyšší a vyšší frekvence (násobíme $\\omega$ většími konstantami), ale zároveň amplitudy (konstanty před siny) se zmenšují, tedy jsou stále méně a méně podstatné.\n",
    "\n",
    "Toto řazení členů Fourierovské řady je užitečné, proto nám zajišťuje, že jakýkoli počet členů vezmemme, budou to ty nejdůležitější. Další následují členy mi výsledek vylepší, ale čím dál méně.\n",
    "\n",
    "### Důležité\n",
    "Po tom co FT provedeme, budeme vykreslovat frekvence na ose x (zelené členy) a jejich příslušné amplitudy na ose y (červená čísla)."
   ]
  },
  {
   "cell_type": "code",
   "execution_count": 3,
   "metadata": {},
   "outputs": [],
   "source": [
    "## fourierovská řada\n",
    "def ft_rada_obd(x_osa, frek, n_frek):\n",
    "    # nejdřív vytvořme pole nul, kam budeme přidávat členy sinusů\n",
    "    f_hodnoty = np.zeros(len(x_osa))\n",
    "    \n",
    "    # k je k ze vzorce nahoře\n",
    "    for k in range(1, n_frek + 1):\n",
    "        # pro vyšší a vyšší frekvence, přidávám kmitající siny do již existujícího pole\n",
    "        f_hodnoty = f_hodnoty + np.sin(2*np.pi * (2*k-1) * frek * x_osa)/(2*k-1)\n",
    "\n",
    "    # nakonec vynásob první konstantou, místo násobení v každé iteraci \n",
    "    return f_hodnoty * 4/np.pi\n",
    "\n",
    "## FFT znamené \"fast fourier transform\", standardní a rychlý algoritmus pro výpočet FT\n",
    "# pokud má osa x rovnoměrně odstupňované (ekvidistantní) hodnoty\n",
    "def proved_fft(x, f):\n",
    "    # vlastně je to jen toto, v pythonu extrémně jednoduché\n",
    "    f_fft = fft.fft(f)\n",
    "\n",
    "    # navíc ale musíme spočíst správnou osu x (frekvence), a proto musíme znát takzvaný krok\n",
    "    t_step = abs(x[1] - x[0])  # velikost časového kroku \n",
    "    \n",
    "    # FT amplitudy jsou symetrické, takže můžeme vzít je polovinu intervalu (viz hranatá závorka)\n",
    "    x_fft = fft.fftfreq(len(x), t_step)[:len(x) // 2]\n",
    "\n",
    "    return x_fft, 2.0/len(x) * np.abs(f_fft[0:len(x)//2])"
   ]
  },
  {
   "cell_type": "markdown",
   "metadata": {},
   "source": [
    "## Následující část je definice interaktvního grafického zobrazení\n",
    "  * Vypadá komplikovaně, klidně přeskočte. Ukazuji to zde protože:\n",
    "  * Tyto grafy jsou vnořeny do elementů html, takže mohou být zakomponovány do jakékoli webové stránky.\n",
    "  * A někdo vás za to může najmout.\n",
    "  \n",
    "### Nakonec ale neděláme nic jiného, než počítaní FT jako výše. \n",
    "\n",
    "1. FT spektrum (tj amplitudy frekvencí) vpravo, frekvence na ose x, amplitudy na ose y PRO KAŽDOU vlnu sinusu.\n",
    "2. Vlevo je pak součet všech vln sinus z pravého grafu, a jak se přibližuje obdelníkové funkci."
   ]
  },
  {
   "cell_type": "code",
   "execution_count": 4,
   "metadata": {},
   "outputs": [],
   "source": [
    "app = JupyterDash(__name__)\n",
    "# cokoli začíná html. značí elementy jazyka html\n",
    "# které mají jistý \"style\" definovaný v CSS jazyce, proto se většinou\n",
    "# učí html a CSS dohromady.\n",
    "app.layout = html.Div([\n",
    "    html.H1('Jak funguje FFT.'),\n",
    "    \n",
    "    html.Div([\n",
    "        html.Div([\n",
    "            # levý graf v samostatném div elementu\n",
    "            dcc.Graph(id='casova_domena')\n",
    "        ], style={'width':'49%', 'display': 'inline-block'}),\n",
    "    html.Div([\n",
    "        # pravý graf v samostatném div\n",
    "        dcc.Graph(id='frekvencni_domena')\n",
    "    ], style={'width': '49%', 'display': 'inline-block'}),\n",
    "    \n",
    "    # titulek velikosti 4\n",
    "    html.H4('Počet frekvencí'),\n",
    "    # div elementu posuvu, kterým vybíráme počet frekvencí\n",
    "    html.Div(dcc.Slider(\n",
    "        1, 20, step=1,\n",
    "        id='n_frek_slider',\n",
    "        value=1\n",
    "    ), style={'width': '100%', 'display': 'inline-block'}),\n",
    "], style={'width': '100%', 'display': 'inline-block'}),\n",
    "    \n",
    "    \n",
    "], style={'backgroundColor':'white'})\n",
    "\n",
    "# obnov levý graf, když pohnu posuvníkem\n",
    "@app.callback(\n",
    "    Output('casova_domena', 'figure'),\n",
    "    Input('n_frek_slider', 'value'))\n",
    "\n",
    "def obnov_graf(n_frek):\n",
    "    # obdelníková funkce\n",
    "    t = np.linspace(0, 2, 500, endpoint=False)\n",
    "    f = ft_rada_obd(t, 1, n_frek)\n",
    "\n",
    "    # prvotní graf Fourierovské řady (jen sinus)\n",
    "    fig = go.Figure()\n",
    "    fig.add_trace(\n",
    "        go.Line(\n",
    "            x=t,\n",
    "            y=f,\n",
    "            name='FT sin řada'),\n",
    "        )\n",
    "\n",
    "    # přidej obdelníkovou funkci do grafu\n",
    "    fig.add_trace(\n",
    "        go.Line(\n",
    "            x=t,\n",
    "            y=signal.square(2 * np.pi * t),\n",
    "            name='Obdelníková vlna'),\n",
    "        )\n",
    "    # definuj popisky grafu\n",
    "    fig.update_layout(\n",
    "        yaxis_range=[-1.5,1.5],\n",
    "        xaxis_title=\"Čas\",\n",
    "        yaxis_title=\"Amplituda\",\n",
    "        )\n",
    "    # legenda\n",
    "    fig.update_layout(\n",
    "        legend=dict(\n",
    "            yanchor=\"top\",\n",
    "            y=1.2,\n",
    "            xanchor=\"left\",\n",
    "            x=0.01),\n",
    "        )\n",
    "    fig.update_layout(\n",
    "        margin=dict(l=20, r=20, t=20, b=20),\n",
    "        )\n",
    "    return fig\n",
    "\n",
    "# obnov pravý graf, když pohnu posuvníkem\n",
    "@app.callback(\n",
    "    Output('frekvencni_domena', 'figure'),\n",
    "    Input('n_frek_slider', 'value'))\n",
    "\n",
    "def fft_funkce(n_frek):\n",
    "    # spočti FT pomocí proved_fft() funkce\n",
    "    t = np.linspace(0, 2, 500, endpoint=False)\n",
    "    x, y = proved_fft(t, ft_rada_obd(t, 1, n_frek))\n",
    "\n",
    "    fig = go.Figure()  # definuj obrázek\n",
    "    # přidej graf\n",
    "    fig.add_trace(go.Line(\n",
    "                    x=x,\n",
    "                    y=y),\n",
    "                )\n",
    "    # vlastnosti obrázku, limity os, okraje (margin), a popisky os (labels)\n",
    "    fig.update_layout(xaxis_range=[0,42])\n",
    "    fig.update_layout(\n",
    "        margin=dict(l=20, r=20, t=20, b=20),\n",
    "        xaxis_title=\"Frekvence [1/Čas]\",\n",
    "        yaxis_title=\"Amplituda\",\n",
    "        )\n",
    "    return fig"
   ]
  },
  {
   "cell_type": "code",
   "execution_count": 5,
   "metadata": {},
   "outputs": [],
   "source": [
    "del app.config._read_only[\"requests_pathname_prefix\"]"
   ]
  },
  {
   "cell_type": "code",
   "execution_count": 6,
   "metadata": {},
   "outputs": [
    {
     "data": {
      "text/html": [
       "\n",
       "        <iframe\n",
       "            width=\"100%\"\n",
       "            height=\"650\"\n",
       "            src=\"http://127.0.0.1:8050/\"\n",
       "            frameborder=\"0\"\n",
       "            allowfullscreen\n",
       "            \n",
       "        ></iframe>\n",
       "        "
      ],
      "text/plain": [
       "<IPython.lib.display.IFrame at 0x2329a0bd0b8>"
      ]
     },
     "metadata": {},
     "output_type": "display_data"
    },
    {
     "name": "stderr",
     "output_type": "stream",
     "text": [
      "c:\\Users\\David Palecek\\Documents\\Python_projects\\pymarad\\lib\\site-packages\\plotly\\graph_objs\\_deprecations.py:385: DeprecationWarning:\n",
      "\n",
      "plotly.graph_objs.Line is deprecated.\n",
      "Please replace it with one of the following more specific types\n",
      "  - plotly.graph_objs.scatter.Line\n",
      "  - plotly.graph_objs.layout.shape.Line\n",
      "  - etc.\n",
      "\n",
      "\n"
     ]
    }
   ],
   "source": [
    "app.run_server(mode='inline')"
   ]
  },
  {
   "cell_type": "markdown",
   "metadata": {},
   "source": [
    "### Dobrá práce, teď je čas se mrknout na použití FT:\n",
    "1. Komprese obrázku\n",
    "2. Vytváření nového hudebního nástroje"
   ]
  },
  {
   "cell_type": "markdown",
   "metadata": {},
   "source": []
  }
 ],
 "metadata": {
  "kernelspec": {
   "display_name": "Python 3.7.1 ('pymarad')",
   "language": "python",
   "name": "python3"
  },
  "language_info": {
   "codemirror_mode": {
    "name": "ipython",
    "version": 3
   },
   "file_extension": ".py",
   "mimetype": "text/x-python",
   "name": "python",
   "nbconvert_exporter": "python",
   "pygments_lexer": "ipython3",
   "version": "3.7.1"
  },
  "vscode": {
   "interpreter": {
    "hash": "a3c0fc5ec80df9a4c4e02423959968b38de5e51a4b6108077fd6ef4ff2e91045"
   }
  }
 },
 "nbformat": 4,
 "nbformat_minor": 4
}
