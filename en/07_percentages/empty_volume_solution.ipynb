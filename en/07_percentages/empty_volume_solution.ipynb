{
 "cells": [
  {
   "cell_type": "markdown",
   "metadata": {},
   "source": [
    "# Emptiness of the world\n",
    "\n",
    "  * If you search the internet, standard answer to how big of a volume does a water molecule encompass goes like this:\n",
    "  * calculate total number of molecules in 1 liter\n",
    "  * divide volume of 1 liter (1 dm<sup>3</sup>) by number of molecules\n",
    "  * You get volume of one H<sub>2</sub>O\n",
    "\n",
    "  ### I am going to show you what amazing fact does this way of thinking hide from you.\n",
    "  \n",
    "Note: There is a similar water/chemistry project 'Pee in the sea' in the Probability section, using Avogadro constant etc.? Check it out for more amazing facts.\n",
    "\n"
   ]
  },
  {
   "cell_type": "code",
   "execution_count": 10,
   "metadata": {},
   "outputs": [],
   "source": [
    "## here show the sketch of h2o and van der waals volumes compare to extent of electron cloud"
   ]
  },
  {
   "cell_type": "markdown",
   "metadata": {},
   "source": [
    "Van der Waals radius is giving us the distance, when the neigboring water molecule (mainly electrons) will feel so much repulsion, that the molecules cannot get any closer\n",
    "  * Imagine two magnets repulsing each other\n",
    "  * Or the Earth and the Sun, there is interaction between them, however also incredibly lots of empty space.\n",
    "  * So Van der Waals volume includes that empty space\n",
    "  \n",
    "---\n",
    " \n",
    "## NOW, if we take that volume is only how far nucleus and electrons extend, what percentage of water is empty space?\n",
    "  "
   ]
  },
  {
   "cell_type": "code",
   "execution_count": 1,
   "metadata": {},
   "outputs": [],
   "source": [
    "# use total amount of molecules in the oceans\n",
    "import scipy.constants as const\n",
    "import numpy as np"
   ]
  },
  {
   "cell_type": "code",
   "execution_count": 9,
   "metadata": {},
   "outputs": [],
   "source": [
    "# moles in 1 liter (weight divided by molecular weight, which is sum of atomic weights)\n",
    "moles_per_liter = 1000/18.02\n",
    "molecules_water = moles_per_liter * const.Avogadro"
   ]
  },
  {
   "cell_type": "markdown",
   "metadata": {},
   "source": [
    "### Let's start with the Van der Waals volume"
   ]
  },
  {
   "cell_type": "code",
   "execution_count": 14,
   "metadata": {},
   "outputs": [
    {
     "name": "stdout",
     "output_type": "stream",
     "text": [
      "Volume of 1 liter (we expect 1 dm3):  0.975\n"
     ]
    }
   ],
   "source": [
    "# van der Waals (vdw)\n",
    "rh_vdw = 120e-12  # radius of hydrogen atom in m\n",
    "ro_vdw = 152e-12  # radius of oxygen atom in m\n",
    "\n",
    "# volume of h2o molecules in m3, taking atoms as balls\n",
    "v_h2o_vdw = 2*4*np.pi*rh_vdw**3/3 + 4*np.pi*ro_vdw**3/3\n",
    "\n",
    "# 1 liter is 1dm3, and conversion factor from m3 to dm3 is 1000=1e3\n",
    "volume_liter_vdw = molecules_water * v_h2o_vdw * 1e3\n",
    "print('Volume of 1 liter (we expect 1 dm3): ', round(volume_liter_vdw,3))"
   ]
  },
  {
   "cell_type": "markdown",
   "metadata": {},
   "source": [
    "* This means we explained almost 98% of the water volume, VdW therefore nicely describes some kind of effective volume of water molecule.\n",
    "* Getting closer is for the h2o molecules almost impossible because of their electron repulsion.\n",
    "\n",
    "---\n",
    "  \n",
    "### Now we do covalent radius, which is the physical extend of protons, neutrons and electron in the space."
   ]
  },
  {
   "cell_type": "code",
   "execution_count": 16,
   "metadata": {},
   "outputs": [
    {
     "name": "stdout",
     "output_type": "stream",
     "text": [
      "Volume of 1 liter (we expect 1 dm3):  0.044\n"
     ]
    }
   ],
   "source": [
    "# covalent radius\n",
    "# https://en.wikipedia.org/wiki/Covalent_radius\n",
    "# https://en.wikipedia.org/wiki/Atomic_radii_of_the_elements_(data_page)\n",
    "# much lower than van der waals\n",
    "# in m\n",
    "rh = 32e-12\n",
    "ro = 63e-12\n",
    "\n",
    "# volume of h2o molecule in m3\n",
    "v_h2o = 2*4*np.pi*rh**3/3 + 4*np.pi*ro**3/3\n",
    "\n",
    "# 1 liter is 1dm3 so conversion factor from m3 to dm3 is 1000=1e3\n",
    "volume_liter = molecules_water * v_h2o * 1e3\n",
    "print('Volume of 1 liter (we expect 1 dm3): ', round(volume_liter,3))"
   ]
  },
  {
   "cell_type": "markdown",
   "metadata": {},
   "source": [
    "This means one single amazing thing:\n",
    "\n",
    "## At least 95% of the space inside the water is totally empty!!!\n",
    "  * Note that we made radius of H smaller only ~2x and oxygen ~2.5x, respectively.\n",
    "  * The reason it leads to 95% shrinking is the third power in the *volume* calculation.\n",
    "  \n",
    "---\n",
    "\n",
    "## If you think this is some special case for water or liquids, try to figure out the same for a brick of pure gold."
   ]
  },
  {
   "cell_type": "code",
   "execution_count": 21,
   "metadata": {},
   "outputs": [
    {
     "name": "stdout",
     "output_type": "stream",
     "text": [
      "Volume of gold atoms (expecting 1cm3):  0.471\n"
     ]
    }
   ],
   "source": [
    "# constants you need\n",
    "m_au = 197          # in g/mol\n",
    "density_au = 19.3   # g/cm3\n",
    "r_au = 124e-12      # in m\n",
    "\n",
    "# we take 1 cm3 of gold\n",
    "n_atoms_au = density_au/m_au * const.Avogadro\n",
    "vol_atoms = 4*np.pi*r_au**3/3 * n_atoms_au * 1e6   # conversion from m3 to cm3\n",
    "print('Volume of gold atoms (expecting 1cm3): ', round(vol_atoms,3))"
   ]
  },
  {
   "cell_type": "markdown",
   "metadata": {},
   "source": [
    "## Gold is 'only' 53% empty!!\n",
    "\n",
    "---\n",
    "\n",
    "## Conclusion:\n",
    "  * We do not see it, but the matter around us is mostly very holy.\n",
    "  * Typical calculations you encounter ignore it, and calculate effective (van der Waals) volumes.\n",
    "  * It makes sense however, because we cannot take advantage of that space, due to the strong interaction forces within the van der Waals volume.\n",
    "\n",
    "## Questions:\n",
    "  * There is even more empty space, since atoms themselves are formed by electrons, protons and neutrons which you can assign some sort of volume too.\n",
    "    * Can you calculate percentage of empty volume within H and O atoms?\n",
    "  * If you have done the above, what is the total empty space within the water, given the matter is only protons, neutrons and electrons?\n",
    "\n",
    "# Good Job!"
   ]
  },
  {
   "cell_type": "code",
   "execution_count": null,
   "metadata": {},
   "outputs": [],
   "source": []
  }
 ],
 "metadata": {
  "kernelspec": {
   "display_name": "pymarad",
   "language": "python",
   "name": "pymarad"
  },
  "language_info": {
   "codemirror_mode": {
    "name": "ipython",
    "version": 3
   },
   "file_extension": ".py",
   "mimetype": "text/x-python",
   "name": "python",
   "nbconvert_exporter": "python",
   "pygments_lexer": "ipython3",
   "version": "3.7.1"
  }
 },
 "nbformat": 4,
 "nbformat_minor": 4
}
