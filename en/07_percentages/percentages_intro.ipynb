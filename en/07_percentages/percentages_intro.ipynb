{
 "cells": [
  {
   "cell_type": "markdown",
   "metadata": {},
   "source": [
    "# Intro to percentages\n",
    "    * author reference: David Palecek (ddthumb@gmail.com)"
   ]
  },
  {
   "cell_type": "markdown",
   "metadata": {},
   "source": [
    "Percentage is another way to talk about ratios.\n",
    "\n",
    "Let's think about apples. You have 10 apples to start with, then eat 5 of them.\n",
    "\n",
    "What part of the total did you eat? Five out of ten, written shortly 5/10, which reminds you of mathematical fraction/ratio:\n",
    "\n",
    "$\\dfrac{5}{10}=\\dfrac{1}{2}$\n",
    "\n",
    "You ate half of your apples.\n"
   ]
  },
  {
   "cell_type": "code",
   "execution_count": 1,
   "metadata": {},
   "outputs": [
    {
     "name": "stdout",
     "output_type": "stream",
     "text": [
      "0.5\n"
     ]
    }
   ],
   "source": [
    "# trivial to calculate in python\n",
    "print(5/10)"
   ]
  },
  {
   "cell_type": "markdown",
   "metadata": {},
   "source": [
    "If we call 10 apples the total amount, it is also 100% of your apples.\n",
    "\n",
    "You ate $\\dfrac{1}{2}$ of 100%, that is 50%.\n",
    "\n",
    "How much is left, 100% - 50%, also 50%.\n",
    "\n",
    "### Percentage is therefore ratio times 100."
   ]
  },
  {
   "cell_type": "code",
   "execution_count": 2,
   "metadata": {},
   "outputs": [
    {
     "data": {
      "text/plain": [
       "50.0"
      ]
     },
     "execution_count": 2,
     "metadata": {},
     "output_type": "execute_result"
    }
   ],
   "source": [
    "(5/10) * 100"
   ]
  },
  {
   "cell_type": "markdown",
   "metadata": {},
   "source": [
    "### Now you buy 10 more apples, two questions for you:\n",
    "1. What percentage of apples do you have in respect to the initial 10?"
   ]
  },
  {
   "cell_type": "code",
   "execution_count": 8,
   "metadata": {},
   "outputs": [
    {
     "data": {
      "text/plain": [
       "150.0"
      ]
     },
     "execution_count": 8,
     "metadata": {},
     "output_type": "execute_result"
    }
   ],
   "source": [
    "# now you have 5+10, 15 apples, which you want to compare to the initial 10, therefore 10 goes into denominator\n",
    "(15/10) * 100"
   ]
  },
  {
   "cell_type": "markdown",
   "metadata": {},
   "source": [
    "2. How many percents of apples did you add to the 5 you'd had before going shopping?"
   ]
  },
  {
   "cell_type": "code",
   "execution_count": 10,
   "metadata": {},
   "outputs": [
    {
     "data": {
      "text/plain": [
       "200.0"
      ]
     },
     "execution_count": 10,
     "metadata": {},
     "output_type": "execute_result"
    }
   ],
   "source": [
    "# you added 10 and will compare it to 5 you'd had, so denominator is now 5\n",
    "(10/5) *100"
   ]
  },
  {
   "cell_type": "markdown",
   "metadata": {},
   "source": [
    "\n",
    "Note that buying 10 apples is double of 5, therefore in percents double is 200%.\n",
    "\n",
    "Putting your shopping experience into plain words:\n",
    "\n",
    "You added 200% of apples to the 5 you'd already had, totaling to 15, which is 150% of the initial amount of 10 apples, and 300% if you would like to consider the initial amount to be 5 apples. \n",
    "\n",
    "### Crucial is *always* asking, 'Percentage in respect to what initial value?'\n",
    "\n",
    "---\n",
    "Now you know all the essentials:\n",
    "\n",
    "If I give you any two numbers, you are able calculate what is the percentage of one in respect to the other.\n",
    "\n",
    "Always in two ways though.\n",
    "\n",
    "Take 1230 and 123"
   ]
  },
  {
   "cell_type": "code",
   "execution_count": 11,
   "metadata": {},
   "outputs": [
    {
     "data": {
      "text/plain": [
       "10.0"
      ]
     },
     "execution_count": 11,
     "metadata": {},
     "output_type": "execute_result"
    }
   ],
   "source": [
    "round(123/1230*100,1)"
   ]
  },
  {
   "cell_type": "markdown",
   "metadata": {},
   "source": [
    "In other words one tenth, 100/10=10%"
   ]
  },
  {
   "cell_type": "code",
   "execution_count": 12,
   "metadata": {},
   "outputs": [
    {
     "data": {
      "text/plain": [
       "1000.0"
      ]
     },
     "execution_count": 12,
     "metadata": {},
     "output_type": "execute_result"
    }
   ],
   "source": [
    "round(1230/123*100,1)"
   ]
  },
  {
   "cell_type": "markdown",
   "metadata": {},
   "source": [
    "If you have 1000% of something it means you have 10x more.\n",
    "\n",
    "---\n",
    "But if you started from 123, how many percents did you grow to reach 1230?\n",
    "\n",
    "In other words, I need the relation of how much I added to 123 to reach 1230, in ratio to what I had started with, that is 123."
   ]
  },
  {
   "cell_type": "code",
   "execution_count": 4,
   "metadata": {},
   "outputs": [
    {
     "data": {
      "text/plain": [
       "9.0"
      ]
     },
     "execution_count": 4,
     "metadata": {},
     "output_type": "execute_result"
    }
   ],
   "source": [
    "# the ratio is\n",
    "(1230-123)/123"
   ]
  },
  {
   "cell_type": "markdown",
   "metadata": {},
   "source": [
    "Which is in percents:"
   ]
  },
  {
   "cell_type": "code",
   "execution_count": 5,
   "metadata": {},
   "outputs": [
    {
     "data": {
      "text/plain": [
       "900.0"
      ]
     },
     "execution_count": 5,
     "metadata": {},
     "output_type": "execute_result"
    }
   ],
   "source": [
    "(1230-123)/123 * 100"
   ]
  },
  {
   "cell_type": "markdown",
   "metadata": {},
   "source": [
    "Therefore the growth is 900%\n",
    "\n",
    "I can also think this way:\n",
    "* 1230 is 1000% of my initial 123\n",
    "* But 123 is 100%, the initial total\n",
    "* So the growth is 1000-100 (final - initial percentage) = 900 (percentage of growth)\n",
    "\n",
    "---\n",
    "\n",
    "## Question:\n",
    "1. You figured that going from 123 to 1230 means 900% increase. How much of a decrease (in percents) is going opposite direction, from 1230 to 123?\n",
    "\n",
    "# Well done!"
   ]
  },
  {
   "cell_type": "code",
   "execution_count": null,
   "metadata": {},
   "outputs": [],
   "source": []
  }
 ],
 "metadata": {
  "kernelspec": {
   "display_name": "pymarad",
   "language": "python",
   "name": "pymarad"
  },
  "language_info": {
   "codemirror_mode": {
    "name": "ipython",
    "version": 3
   },
   "file_extension": ".py",
   "mimetype": "text/x-python",
   "name": "python",
   "nbconvert_exporter": "python",
   "pygments_lexer": "ipython3",
   "version": "3.7.1"
  },
  "orig_nbformat": 4
 },
 "nbformat": 4,
 "nbformat_minor": 2
}
