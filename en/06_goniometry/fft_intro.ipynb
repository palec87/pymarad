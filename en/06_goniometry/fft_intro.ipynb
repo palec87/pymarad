{
 "cells": [
  {
   "attachments": {},
   "cell_type": "markdown",
   "metadata": {},
   "source": [
    "# Interactive INTRO to Fourier transform (FT)\n",
    "  * I will not go deep into math, therefore some statements are not exact.\n",
    "  * Goal is to provide motivation, why FT is such a strong and useful concept.\n",
    "\n",
    "### Similarities and differences of Fourier series and Fourier transform\n",
    "<table border=\"0\">\n",
    " <tr>\n",
    "    <td><b style=\"font-size:20px\">Fourier series</b></td>\n",
    "    <td><b style=\"font-size:20px\">Fourier transform</b></td>\n",
    " </tr>\n",
    " <tr>\n",
    "    <td>Only periodic functions</td>\n",
    "    <td>Any function (periodic and more)</td>\n",
    " </tr>\n",
    " <tr>\n",
    "    <td>Decomposes signal into frequency spectrum</td>\n",
    "    <td>Decomposes signal into frequency spectrum</td>\n",
    " </tr>\n",
    " \n",
    " <tr>\n",
    "    <td>Series of terms often infinite</td>\n",
    "    <td>Always finite (same number as input)</td>\n",
    " </tr>\n",
    "\n",
    "\n",
    "</table>\n",
    "\n",
    "In this notebook I will present little bit how Fourier series work, and later in the projects you will mostly use Fourier transform, which is more practical.\n",
    "\n",
    "1. Even though Fourier series can be composed of infinite number of terms, they are ordered by decreasing significance. This ensures you always take the most important terms first.\n",
    "2. The rest of the terms are corrections to what you already have.\n",
    "\n",
    "### Where is it used?\n",
    "1. Compression (of images, music etc.)\n",
    "2. Noise removal\n",
    "3. Signal analysis (frequencies of sounds, light waves, etc.)\n",
    "4. Spectroscopy and imaging, quantum mechanics, transport (heat etc.)"
   ]
  },
  {
   "cell_type": "code",
   "execution_count": null,
   "metadata": {},
   "outputs": [],
   "source": [
    "## Only necessary to run this for Google colabs\n",
    "import subprocess\n",
    "import sys\n",
    "\n",
    "def install_module(module):\n",
    "    subprocess.call([sys.executable, \"-m\", \"pip\", \"install\", module])\n",
    "    \n",
    "install_module('dash')\n",
    "install_module('jupyter_dash')"
   ]
  },
  {
   "cell_type": "code",
   "execution_count": 2,
   "metadata": {},
   "outputs": [],
   "source": [
    "# scientific modules\n",
    "import numpy as np\n",
    "from scipy import signal, fft\n",
    "\n",
    "# imports for interactive plots\n",
    "from dash import Dash, html, dcc, Input, Output\n",
    "from jupyter_dash import JupyterDash\n",
    "import plotly.express as px\n",
    "import plotly.graph_objects as go\n",
    "\n",
    "# standard plotting\n",
    "import matplotlib.pyplot as plt\n",
    "from matplotlib import cm\n",
    "\n",
    "plt.rcParams['figure.facecolor'] = 'white'"
   ]
  },
  {
   "attachments": {},
   "cell_type": "markdown",
   "metadata": {},
   "source": [
    "### Let's create a so called square function together with a simple sine."
   ]
  },
  {
   "cell_type": "code",
   "execution_count": 3,
   "metadata": {},
   "outputs": [
    {
     "data": {
      "image/png": "[encoded data removed]",
      "text/plain": [
       "<Figure size 432x288 with 1 Axes>"
      ]
     },
     "metadata": {},
     "output_type": "display_data"
    }
   ],
   "source": [
    "# our x axis, to think about oscillations in time, I call it t\n",
    "t = np.linspace(0, 2, 500, endpoint=False)\n",
    "\n",
    "# square function is famous, therefore it is present in signal module\n",
    "plt.plot(t, signal.square(2 * np.pi * t), label='square function')\n",
    "plt.plot(t, np.sin(2*np.pi*t), label='sine')\n",
    "plt.axhline(0, color='k', lw=0.4)\n",
    "plt.ylim(-1.5, 1.7)\n",
    "plt.xlabel('Time')\n",
    "plt.ylabel('Amplitude')\n",
    "plt.legend(loc='upper right')\n",
    "plt.show()"
   ]
  },
  {
   "attachments": {},
   "cell_type": "markdown",
   "metadata": {},
   "source": [
    "Square functions oscillates, which is good, but how on Earth can you produce the sharp edge just using sines and cosines?\n",
    "\n",
    "---\n",
    "\n",
    "It is a university level calculation, so we take just the result from wikipedia (if you want to see more details check [Wolfram explanation](https://mathworld.wolfram.com/FourierSeriesSquareWave.html)\n",
    "\n",
    "\\begin{align}\n",
    "F(t)=\\dfrac{4}{\\pi}\\sum_{k=1}^{\\infty}{\\dfrac{\\sin{(2\\pi(2k-1)ft)}}{2k-1}} = {\\color{red}\\dfrac{4}{\\pi}}\\left(\\sin{({\\color{green}\\omega} t)} + {\\color{red}\\dfrac{1}{3}}\\sin{({\\color{green}3\\omega} t)} + {\\color{red}\\dfrac{1}{5}}\\sin{({\\color{green}5\\omega} t)} + ...\\right)\n",
    "\\end{align}\n",
    ", for $\\omega=2\\pi ft$.\n",
    "\n",
    "### What does this mean?\n",
    "If you look on the right side of the formula, you see that we are summing higher and higher frequencies (multiplying the $\\omega$ with larger constant), but at the same time the amplitudes (constants in front of the sines) are getting smaller, which means they are less and less important.\n",
    "\n",
    "This ordering of terms is the useful part, because it ensures that whatever number of terms we decide to take, we did the best possible job. The other terms improve the result, but less and less.\n",
    "\n",
    "### Important\n",
    "After Fourier transform, we plot frequencies on x axis (green terms) and their corresponding amplitudes on y axis (red numbers)"
   ]
  },
  {
   "cell_type": "code",
   "execution_count": 4,
   "metadata": {},
   "outputs": [],
   "source": [
    "## fourier series\n",
    "def ft_series_square(x_axis, freq, n_harmonics):\n",
    "    # first create array of zeros, where I am going to add the sine terms\n",
    "    f_values = np.zeros(len(x_axis))\n",
    "    \n",
    "    # k is the k from the formula above\n",
    "    for k in range(1, n_harmonics+1):\n",
    "        # for higher and higher frequencies, adding the sin term to my existing values\n",
    "        f_values = f_values + np.sin(2*np.pi * (2*k-1) * freq * x_axis)/(2*k-1)\n",
    "\n",
    "    # multiply only once the whole thing, insted of n_harmonics-times (in each iteration) \n",
    "    return f_values * 4/np.pi\n",
    "\n",
    "## FFT stands for fast fourier transform, standard and fast algorithm to\n",
    "# calculate FT if the x axis is equally spaced\n",
    "def do_fft(x, f):\n",
    "    # in principle this is all\n",
    "    f_fft = fft.fft(f)\n",
    "\n",
    "    # but in order to calculate correct x axis (frequencies)\n",
    "    # we need to know so called step-size\n",
    "    t_step = abs(x[1] - x[0])\n",
    "    \n",
    "    # FT amplitudes are also symmetric, so I take only half of the \n",
    "    # frequency interval\n",
    "    x_fft = fft.fftfreq(len(x), t_step)[:len(x) // 2]\n",
    "\n",
    "    return x_fft, 2.0/len(x) * np.abs(f_fft[0:len(x)//2])"
   ]
  },
  {
   "attachments": {},
   "cell_type": "markdown",
   "metadata": {},
   "source": [
    "## The following part is the interactive plotting definitions\n",
    "  * It looks a bit complicated, feel free to skip. I am showing it here, because:\n",
    "  * These plots integrate into html elements, so they can run on any webpage.\n",
    "  * And can get you hired one day.\n",
    "  \n",
    "### In the end of the day we are calculating the same as above. \n",
    "\n",
    "1. FT spectrum (ie frequency amplitudes) on the right, frequencies on x, amplitudes on the y FOR EACH sine wave.\n",
    "2. And left shows the result sum of sine waves from right plot and HOW it approximates the square function."
   ]
  },
  {
   "cell_type": "code",
   "execution_count": 5,
   "metadata": {},
   "outputs": [],
   "source": [
    "app = JupyterDash(__name__)\n",
    "# whatever start with html. stands for html elements\n",
    "# which have certain \"style\" defined (in CSS), that is why you typically\n",
    "# learn html and CSS together.\n",
    "app.layout = html.Div([\n",
    "    html.H1('How FFT works.'),\n",
    "    \n",
    "    html.Div([\n",
    "        html.Div([\n",
    "            # left graph in separate div element\n",
    "            dcc.Graph(id='time_domain_lines')\n",
    "        ], style={'width':'49%', 'display': 'inline-block'}),\n",
    "        html.Div([\n",
    "            # right graph in other div element\n",
    "            dcc.Graph(id='fft_lines')\n",
    "        ], style={'width': '49%', 'display': 'inline-block'}),\n",
    "        \n",
    "        # title of size 4\n",
    "        html.H4('Number of harmonics'),\n",
    "        # div element which contains the slider\n",
    "        html.Div(dcc.Slider(\n",
    "            1, 20, step=1,\n",
    "            id='n_harmonics_slider',\n",
    "            value=1\n",
    "        ), style={'width': '100%', 'display': 'inline-block'}),\n",
    "    ], style={'width': '100%', 'display': 'inline-block'}),\n",
    "    \n",
    "    \n",
    "], style={'backgroundColor':'white'})\n",
    "\n",
    "# update left graph, when I move the slider\n",
    "@app.callback(\n",
    "    Output('time_domain_lines', 'figure'),\n",
    "    Input('n_harmonics_slider', 'value'))\n",
    "\n",
    "def update_graph(n_harmonics_value):\n",
    "    # square function\n",
    "    t = np.linspace(0, 2, 500, endpoint=False)\n",
    "    f = ft_series_square(t, 1, n_harmonics_value)\n",
    "\n",
    "    # initial plot of FT series (just a sine)\n",
    "    fig = go.Figure()\n",
    "    fig.add_trace(\n",
    "        go.Line(\n",
    "            x=t,\n",
    "            y=f,\n",
    "            name='FT series'),\n",
    "        )\n",
    "\n",
    "    # add square function line to the plot\n",
    "    fig.add_trace(\n",
    "        go.Line(\n",
    "            x=t,\n",
    "            y=signal.square(2 * np.pi * t),\n",
    "            name='Square wave'),\n",
    "        )\n",
    "    # define graph labels\n",
    "    fig.update_layout(\n",
    "        yaxis_range=[-1.5,1.5],\n",
    "        xaxis_title=\"Time\",\n",
    "        yaxis_title=\"Amplitude\",\n",
    "        )\n",
    "    # add legend\n",
    "    fig.update_layout(\n",
    "        legend=dict(\n",
    "            yanchor=\"top\",\n",
    "            y=1.2,\n",
    "            xanchor=\"left\",\n",
    "            x=0.01),\n",
    "        )\n",
    "    fig.update_layout(\n",
    "        margin=dict(l=20, r=20, t=20, b=20),\n",
    "        )\n",
    "    return fig\n",
    "\n",
    "# update right graph upon moving the slider\n",
    "@app.callback(\n",
    "    Output('fft_lines', 'figure'),\n",
    "    Input('n_harmonics_slider', 'value'))\n",
    "\n",
    "def create_fft(n_harmonics_value):\n",
    "    # calculate FT by using do_fft() function\n",
    "    t = np.linspace(0, 2, 500, endpoint=False)\n",
    "    x, y = do_fft(t, ft_series_square(t, 1, n_harmonics_value))\n",
    "\n",
    "    fig = go.Figure()  # define figure\n",
    "    # add line plot\n",
    "    fig.add_trace(go.Line(\n",
    "                    x=x,\n",
    "                    y=y),\n",
    "                )\n",
    "    # figure appearance, axis limits, margins, and labels.\n",
    "    fig.update_layout(xaxis_range=[0,42])\n",
    "    fig.update_layout(\n",
    "        margin=dict(l=20, r=20, t=20, b=20),\n",
    "        xaxis_title=\"Frequency [1/Time]\",\n",
    "        yaxis_title=\"Amplitude\",\n",
    "        )\n",
    "    return fig"
   ]
  },
  {
   "cell_type": "code",
   "execution_count": 6,
   "metadata": {},
   "outputs": [],
   "source": [
    "del app.config._read_only[\"requests_pathname_prefix\"]"
   ]
  },
  {
   "cell_type": "code",
   "execution_count": 7,
   "metadata": {},
   "outputs": [
    {
     "data": {
      "text/html": [
       "\n",
       "        <iframe\n",
       "            width=\"100%\"\n",
       "            height=\"650\"\n",
       "            src=\"http://127.0.0.1:8050/\"\n",
       "            frameborder=\"0\"\n",
       "            allowfullscreen\n",
       "            \n",
       "        ></iframe>\n",
       "        "
      ],
      "text/plain": [
       "<IPython.lib.display.IFrame at 0x1dd3adc7208>"
      ]
     },
     "metadata": {},
     "output_type": "display_data"
    },
    {
     "name": "stderr",
     "output_type": "stream",
     "text": [
      "C:\\Users\\David Palecek\\Documents\\Python_projects\\pymarad\\lib\\site-packages\\plotly\\graph_objs\\_deprecations.py:385: DeprecationWarning:\n",
      "\n",
      "plotly.graph_objs.Line is deprecated.\n",
      "Please replace it with one of the following more specific types\n",
      "  - plotly.graph_objs.scatter.Line\n",
      "  - plotly.graph_objs.layout.shape.Line\n",
      "  - etc.\n",
      "\n",
      "\n"
     ]
    }
   ],
   "source": [
    "app.run_server(mode='inline')"
   ]
  },
  {
   "attachments": {},
   "cell_type": "markdown",
   "metadata": {},
   "source": [
    "### Good job, now is the time to check some application of FT:\n",
    "1. Image compression.\n",
    "2. Creating a new musical instrument."
   ]
  },
  {
   "attachments": {},
   "cell_type": "markdown",
   "metadata": {},
   "source": []
  }
 ],
 "metadata": {
  "kernelspec": {
   "display_name": "pymarad",
   "language": "python",
   "name": "pymarad"
  },
  "language_info": {
   "name": "python",
   "version": "3.7.1"
  },
  "vscode": {
   "interpreter": {
    "hash": "26de051ba29f2982a8de78e945f0abaf191376122a1563185a90213a26c5da77"
   }
  }
 },
 "nbformat": 4,
 "nbformat_minor": 4
}
